{
 "cells": [
  {
   "cell_type": "markdown",
   "metadata": {},
   "source": [
    "# Impact of 3.2 Beer in Kansas"
   ]
  },
  {
   "cell_type": "code",
   "execution_count": 1,
   "metadata": {
    "collapsed": true
   },
   "outputs": [],
   "source": [
    "# packages used\n",
    "import pandas as pd\n",
    "import numpy as np\n",
    "from sklearn import cluster\n",
    "from sklearn import metrics\n",
    "from sklearn.cluster import KMeans\n",
    "from scipy.spatial.distance import cdist\n",
    "import matplotlib.pyplot as plt\n",
    "import statsmodels.formula.api as smf\n",
    "%matplotlib inline"
   ]
  },
  {
   "cell_type": "markdown",
   "metadata": {},
   "source": [
    "### Load Data"
   ]
  },
  {
   "cell_type": "code",
   "execution_count": 2,
   "metadata": {
    "collapsed": true
   },
   "outputs": [],
   "source": [
    "Stores = pd.read_csv('MinnesotaStoreDataV1.csv')"
   ]
  },
  {
   "cell_type": "markdown",
   "metadata": {},
   "source": [
    "#### Clean Data"
   ]
  },
  {
   "cell_type": "code",
   "execution_count": 3,
   "metadata": {
    "collapsed": true
   },
   "outputs": [],
   "source": [
    "#Remove Stores without Depletion data for the last year (NAs)\n",
    "Stores = Stores.loc[Stores['L12M_TY_QTY'].notnull(),:]\n",
    "\n",
    "#Remove Stores with Negative Depletion data for the last year\n",
    "Stores = Stores.loc[Stores['L12M_TY_QTY'] >= 0,:] \n",
    "\n",
    "#Remove Stores without Demographic data (NAs)\n",
    "Stores = Stores.loc[Stores['MALE_POP_5564_PCT'].notnull(),:] \n",
    "\n",
    "Stores = Stores.reset_index(drop=True)\n",
    "\n",
    "#Change Y and N to 1 and 0\n",
    "Stores['CHAIN_IND_FLG'] = Stores['CHAIN_IND_FLG']=='Y'\n",
    "Stores['FRANCHISE_FLG'] = Stores['FRANCHISE_FLG']=='Y'\n",
    "Stores['BEER_FLG'] = Stores['BEER_FLG']=='Y'\n",
    "Stores['WINE_FLG'] = Stores['WINE_FLG']=='Y'\n",
    "Stores['LIQUOR_FLG'] = Stores['LIQUOR_FLG']=='Y'\n",
    "Stores['FINE_WINE_FLG'] = Stores['FINE_WINE_FLG']=='Y'\n",
    "\n",
    "Stores['STORE_CD'] = Stores['STORE_CD'].astype(str)"
   ]
  },
  {
   "cell_type": "code",
   "execution_count": 4,
   "metadata": {},
   "outputs": [
    {
     "data": {
      "text/html": [
       "<div>\n",
       "<style>\n",
       "    .dataframe thead tr:only-child th {\n",
       "        text-align: right;\n",
       "    }\n",
       "\n",
       "    .dataframe thead th {\n",
       "        text-align: left;\n",
       "    }\n",
       "\n",
       "    .dataframe tbody tr th {\n",
       "        vertical-align: top;\n",
       "    }\n",
       "</style>\n",
       "<table border=\"1\" class=\"dataframe\">\n",
       "  <thead>\n",
       "    <tr style=\"text-align: right;\">\n",
       "      <th></th>\n",
       "      <th>STORE_CD</th>\n",
       "      <th>L12M_TY_QTY</th>\n",
       "      <th>PREMISE_TYPE_DSC</th>\n",
       "      <th>CHANNEL_DSC</th>\n",
       "      <th>SUBCHANNEL_DSC</th>\n",
       "      <th>NO_OF_STORES_DSC</th>\n",
       "      <th>FOOD_TYPE_GROUP_DSC</th>\n",
       "      <th>INDUSTRY_VOL_DSC</th>\n",
       "      <th>PATRON_ETHNICITY_DSC</th>\n",
       "      <th>PATRON_OCCUPATION_DSC</th>\n",
       "      <th>...</th>\n",
       "      <th>MALE_POP_5564_PCT</th>\n",
       "      <th>MALE_POP_6574_PCT</th>\n",
       "      <th>MALE_POP_75_PCT</th>\n",
       "      <th>FEMALE_POP_2124_PCT</th>\n",
       "      <th>FEMALE_POP_2534_PCT</th>\n",
       "      <th>FEMALE_POP_3544_PCT</th>\n",
       "      <th>FEMALE_POP_4554_PCT</th>\n",
       "      <th>FEMALE_POP_5564_PCT</th>\n",
       "      <th>FEMALE_POP_6574_PCT</th>\n",
       "      <th>FEMALE_POP_75_PCT</th>\n",
       "    </tr>\n",
       "  </thead>\n",
       "  <tbody>\n",
       "    <tr>\n",
       "      <th>0</th>\n",
       "      <td>103793493</td>\n",
       "      <td>397.8332</td>\n",
       "      <td>ON PREMISE</td>\n",
       "      <td>DINING</td>\n",
       "      <td>CASUAL DINING</td>\n",
       "      <td>1 STORE</td>\n",
       "      <td>MEXICAN</td>\n",
       "      <td>MID 30% ON/ MID 60% OFF</td>\n",
       "      <td>GENERAL POPULATION</td>\n",
       "      <td>UNKNOWN</td>\n",
       "      <td>...</td>\n",
       "      <td>0.0581</td>\n",
       "      <td>0.0354</td>\n",
       "      <td>0.0216</td>\n",
       "      <td>0.0201</td>\n",
       "      <td>0.1052</td>\n",
       "      <td>0.0728</td>\n",
       "      <td>0.0595</td>\n",
       "      <td>0.0599</td>\n",
       "      <td>0.0413</td>\n",
       "      <td>0.0334</td>\n",
       "    </tr>\n",
       "    <tr>\n",
       "      <th>1</th>\n",
       "      <td>103779046</td>\n",
       "      <td>0.0000</td>\n",
       "      <td>OFF PREMISE</td>\n",
       "      <td>CONVENIENCE STORE</td>\n",
       "      <td>CONVENTIONAL CONVENIENCE</td>\n",
       "      <td>1 STORE</td>\n",
       "      <td>OTHER</td>\n",
       "      <td>LOWEST 20% ON/ LOWEST 20% OFF</td>\n",
       "      <td>GENERAL POPULATION</td>\n",
       "      <td>UNKNOWN</td>\n",
       "      <td>...</td>\n",
       "      <td>0.0483</td>\n",
       "      <td>0.0305</td>\n",
       "      <td>0.0135</td>\n",
       "      <td>0.0589</td>\n",
       "      <td>0.1088</td>\n",
       "      <td>0.0667</td>\n",
       "      <td>0.0420</td>\n",
       "      <td>0.0450</td>\n",
       "      <td>0.0310</td>\n",
       "      <td>0.0185</td>\n",
       "    </tr>\n",
       "    <tr>\n",
       "      <th>2</th>\n",
       "      <td>105646503</td>\n",
       "      <td>13.0000</td>\n",
       "      <td>ON PREMISE</td>\n",
       "      <td>BAR/NIGHTCLUB</td>\n",
       "      <td>CASUAL NIGHTCLUB</td>\n",
       "      <td>1 STORE</td>\n",
       "      <td>OTHER</td>\n",
       "      <td>TOP 50% ON/ TOP 20% OFF</td>\n",
       "      <td>GENERAL POPULATION</td>\n",
       "      <td>UNKNOWN</td>\n",
       "      <td>...</td>\n",
       "      <td>0.0658</td>\n",
       "      <td>0.0376</td>\n",
       "      <td>0.0240</td>\n",
       "      <td>0.0230</td>\n",
       "      <td>0.0546</td>\n",
       "      <td>0.0669</td>\n",
       "      <td>0.0703</td>\n",
       "      <td>0.0619</td>\n",
       "      <td>0.0402</td>\n",
       "      <td>0.0338</td>\n",
       "    </tr>\n",
       "    <tr>\n",
       "      <th>3</th>\n",
       "      <td>105645328</td>\n",
       "      <td>6.0000</td>\n",
       "      <td>ON PREMISE</td>\n",
       "      <td>DINING</td>\n",
       "      <td>CASUAL DINING</td>\n",
       "      <td>1 STORE</td>\n",
       "      <td>VARIED MENU</td>\n",
       "      <td>LOWEST 20% ON/ LOWEST 20% OFF</td>\n",
       "      <td>GENERAL POPULATION</td>\n",
       "      <td>UNKNOWN</td>\n",
       "      <td>...</td>\n",
       "      <td>0.0905</td>\n",
       "      <td>0.1062</td>\n",
       "      <td>0.0501</td>\n",
       "      <td>0.0184</td>\n",
       "      <td>0.0411</td>\n",
       "      <td>0.0345</td>\n",
       "      <td>0.0530</td>\n",
       "      <td>0.0845</td>\n",
       "      <td>0.1039</td>\n",
       "      <td>0.0463</td>\n",
       "    </tr>\n",
       "    <tr>\n",
       "      <th>4</th>\n",
       "      <td>202252793</td>\n",
       "      <td>330.8054</td>\n",
       "      <td>ON PREMISE</td>\n",
       "      <td>DINING</td>\n",
       "      <td>CASUAL DINING</td>\n",
       "      <td>1 STORE</td>\n",
       "      <td>MEXICAN</td>\n",
       "      <td>LOWEST 20% ON/ LOWEST 20% OFF</td>\n",
       "      <td>GENERAL POPULATION</td>\n",
       "      <td>UNKNOWN</td>\n",
       "      <td>...</td>\n",
       "      <td>0.0629</td>\n",
       "      <td>0.0455</td>\n",
       "      <td>0.0313</td>\n",
       "      <td>0.0239</td>\n",
       "      <td>0.0597</td>\n",
       "      <td>0.0594</td>\n",
       "      <td>0.0636</td>\n",
       "      <td>0.0676</td>\n",
       "      <td>0.0530</td>\n",
       "      <td>0.0532</td>\n",
       "    </tr>\n",
       "  </tbody>\n",
       "</table>\n",
       "<p>5 rows × 47 columns</p>\n",
       "</div>"
      ],
      "text/plain": [
       "    STORE_CD  L12M_TY_QTY PREMISE_TYPE_DSC        CHANNEL_DSC  \\\n",
       "0  103793493     397.8332       ON PREMISE             DINING   \n",
       "1  103779046       0.0000      OFF PREMISE  CONVENIENCE STORE   \n",
       "2  105646503      13.0000       ON PREMISE      BAR/NIGHTCLUB   \n",
       "3  105645328       6.0000       ON PREMISE             DINING   \n",
       "4  202252793     330.8054       ON PREMISE             DINING   \n",
       "\n",
       "             SUBCHANNEL_DSC NO_OF_STORES_DSC FOOD_TYPE_GROUP_DSC  \\\n",
       "0             CASUAL DINING          1 STORE             MEXICAN   \n",
       "1  CONVENTIONAL CONVENIENCE          1 STORE               OTHER   \n",
       "2          CASUAL NIGHTCLUB          1 STORE               OTHER   \n",
       "3             CASUAL DINING          1 STORE         VARIED MENU   \n",
       "4             CASUAL DINING          1 STORE             MEXICAN   \n",
       "\n",
       "                INDUSTRY_VOL_DSC PATRON_ETHNICITY_DSC PATRON_OCCUPATION_DSC  \\\n",
       "0        MID 30% ON/ MID 60% OFF   GENERAL POPULATION               UNKNOWN   \n",
       "1  LOWEST 20% ON/ LOWEST 20% OFF   GENERAL POPULATION               UNKNOWN   \n",
       "2        TOP 50% ON/ TOP 20% OFF   GENERAL POPULATION               UNKNOWN   \n",
       "3  LOWEST 20% ON/ LOWEST 20% OFF   GENERAL POPULATION               UNKNOWN   \n",
       "4  LOWEST 20% ON/ LOWEST 20% OFF   GENERAL POPULATION               UNKNOWN   \n",
       "\n",
       "         ...         MALE_POP_5564_PCT  MALE_POP_6574_PCT  MALE_POP_75_PCT  \\\n",
       "0        ...                    0.0581             0.0354           0.0216   \n",
       "1        ...                    0.0483             0.0305           0.0135   \n",
       "2        ...                    0.0658             0.0376           0.0240   \n",
       "3        ...                    0.0905             0.1062           0.0501   \n",
       "4        ...                    0.0629             0.0455           0.0313   \n",
       "\n",
       "   FEMALE_POP_2124_PCT  FEMALE_POP_2534_PCT  FEMALE_POP_3544_PCT  \\\n",
       "0               0.0201               0.1052               0.0728   \n",
       "1               0.0589               0.1088               0.0667   \n",
       "2               0.0230               0.0546               0.0669   \n",
       "3               0.0184               0.0411               0.0345   \n",
       "4               0.0239               0.0597               0.0594   \n",
       "\n",
       "   FEMALE_POP_4554_PCT  FEMALE_POP_5564_PCT  FEMALE_POP_6574_PCT  \\\n",
       "0               0.0595               0.0599               0.0413   \n",
       "1               0.0420               0.0450               0.0310   \n",
       "2               0.0703               0.0619               0.0402   \n",
       "3               0.0530               0.0845               0.1039   \n",
       "4               0.0636               0.0676               0.0530   \n",
       "\n",
       "   FEMALE_POP_75_PCT  \n",
       "0             0.0334  \n",
       "1             0.0185  \n",
       "2             0.0338  \n",
       "3             0.0463  \n",
       "4             0.0532  \n",
       "\n",
       "[5 rows x 47 columns]"
      ]
     },
     "execution_count": 4,
     "metadata": {},
     "output_type": "execute_result"
    }
   ],
   "source": [
    "Stores.head()"
   ]
  },
  {
   "cell_type": "code",
   "execution_count": 5,
   "metadata": {},
   "outputs": [
    {
     "data": {
      "text/plain": [
       "5869"
      ]
     },
     "execution_count": 5,
     "metadata": {},
     "output_type": "execute_result"
    }
   ],
   "source": [
    "#Number of Stores\n",
    "len(Stores)"
   ]
  },
  {
   "cell_type": "markdown",
   "metadata": {},
   "source": [
    "### Data Preprocessing"
   ]
  },
  {
   "cell_type": "code",
   "execution_count": 6,
   "metadata": {
    "collapsed": true
   },
   "outputs": [],
   "source": [
    "#Binarize function\n",
    "def binarize(dataframe , column):\n",
    "    dataframe = pd.concat([dataframe ,pd.get_dummies(dataframe[column] , prefix = ['B_'+c for c in column])] , axis = 1)\n",
    "    return(dataframe)"
   ]
  },
  {
   "cell_type": "code",
   "execution_count": 7,
   "metadata": {
    "collapsed": true
   },
   "outputs": [],
   "source": [
    "#Get Dummies\n",
    "DummiesColumns = ['PREMISE_TYPE_DSC','CHANNEL_DSC','SUBCHANNEL_DSC','NO_OF_STORES_DSC','FOOD_TYPE_GROUP_DSC','INDUSTRY_VOL_DSC',\n",
    "                 'PATRON_ETHNICITY_DSC','PATRON_OCCUPATION_DSC','PATRON_AGE_DSC']\n",
    "StoresC = binarize(Stores, DummiesColumns)"
   ]
  },
  {
   "cell_type": "code",
   "execution_count": 8,
   "metadata": {
    "collapsed": true
   },
   "outputs": [],
   "source": [
    "# prepare data to fit model\n",
    "X_labels = [c for c in StoresC.columns if c not in ['PREMISE_TYPE_DSC','CHANNEL_DSC','SUBCHANNEL_DSC','NO_OF_STORES_DSC',\n",
    "                                                     'FOOD_TYPE_GROUP_DSC','INDUSTRY_VOL_DSC','PATRON_ETHNICITY_DSC',\n",
    "                                                     'PATRON_OCCUPATION_DSC','PATRON_AGE_DSC','STORE_CD']]\n",
    "X = StoresC.loc[:,X_labels]"
   ]
  },
  {
   "cell_type": "code",
   "execution_count": 9,
   "metadata": {},
   "outputs": [
    {
     "data": {
      "text/html": [
       "<div>\n",
       "<style>\n",
       "    .dataframe thead tr:only-child th {\n",
       "        text-align: right;\n",
       "    }\n",
       "\n",
       "    .dataframe thead th {\n",
       "        text-align: left;\n",
       "    }\n",
       "\n",
       "    .dataframe tbody tr th {\n",
       "        vertical-align: top;\n",
       "    }\n",
       "</style>\n",
       "<table border=\"1\" class=\"dataframe\">\n",
       "  <thead>\n",
       "    <tr style=\"text-align: right;\">\n",
       "      <th></th>\n",
       "      <th>L12M_TY_QTY</th>\n",
       "      <th>CHAIN_IND_FLG</th>\n",
       "      <th>FRANCHISE_FLG</th>\n",
       "      <th>BEER_FLG</th>\n",
       "      <th>WINE_FLG</th>\n",
       "      <th>LIQUOR_FLG</th>\n",
       "      <th>FINE_WINE_FLG</th>\n",
       "      <th>WHITE_POP_PCT</th>\n",
       "      <th>BLACK_POP_PCT</th>\n",
       "      <th>ASIAN_POP_PCT</th>\n",
       "      <th>...</th>\n",
       "      <th>B_PATRON_ETHNICITY_DSC_MEXICAN</th>\n",
       "      <th>B_PATRON_ETHNICITY_DSC_UNKNOWN</th>\n",
       "      <th>B_PATRON_OCCUPATION_DSC_BLUE COLLAR</th>\n",
       "      <th>B_PATRON_OCCUPATION_DSC_COLLEGE</th>\n",
       "      <th>B_PATRON_OCCUPATION_DSC_OTHER</th>\n",
       "      <th>B_PATRON_OCCUPATION_DSC_UNKNOWN</th>\n",
       "      <th>B_PATRON_OCCUPATION_DSC_WHITE COLLAR</th>\n",
       "      <th>B_PATRON_AGE_DSC_GENERAL POPULATION</th>\n",
       "      <th>B_PATRON_AGE_DSC_UNKNOWN</th>\n",
       "      <th>B_PATRON_AGE_DSC_YOUNG ADULT (21-28)</th>\n",
       "    </tr>\n",
       "  </thead>\n",
       "  <tbody>\n",
       "    <tr>\n",
       "      <th>0</th>\n",
       "      <td>397.8332</td>\n",
       "      <td>False</td>\n",
       "      <td>False</td>\n",
       "      <td>True</td>\n",
       "      <td>True</td>\n",
       "      <td>True</td>\n",
       "      <td>False</td>\n",
       "      <td>0.7596</td>\n",
       "      <td>0.1108</td>\n",
       "      <td>0.0554</td>\n",
       "      <td>...</td>\n",
       "      <td>0</td>\n",
       "      <td>0</td>\n",
       "      <td>0</td>\n",
       "      <td>0</td>\n",
       "      <td>0</td>\n",
       "      <td>1</td>\n",
       "      <td>0</td>\n",
       "      <td>1</td>\n",
       "      <td>0</td>\n",
       "      <td>0</td>\n",
       "    </tr>\n",
       "    <tr>\n",
       "      <th>1</th>\n",
       "      <td>0.0000</td>\n",
       "      <td>False</td>\n",
       "      <td>False</td>\n",
       "      <td>True</td>\n",
       "      <td>False</td>\n",
       "      <td>False</td>\n",
       "      <td>False</td>\n",
       "      <td>0.7084</td>\n",
       "      <td>0.1061</td>\n",
       "      <td>0.0810</td>\n",
       "      <td>...</td>\n",
       "      <td>0</td>\n",
       "      <td>0</td>\n",
       "      <td>0</td>\n",
       "      <td>0</td>\n",
       "      <td>0</td>\n",
       "      <td>1</td>\n",
       "      <td>0</td>\n",
       "      <td>1</td>\n",
       "      <td>0</td>\n",
       "      <td>0</td>\n",
       "    </tr>\n",
       "    <tr>\n",
       "      <th>2</th>\n",
       "      <td>13.0000</td>\n",
       "      <td>False</td>\n",
       "      <td>False</td>\n",
       "      <td>True</td>\n",
       "      <td>True</td>\n",
       "      <td>True</td>\n",
       "      <td>False</td>\n",
       "      <td>0.9312</td>\n",
       "      <td>0.0072</td>\n",
       "      <td>0.0114</td>\n",
       "      <td>...</td>\n",
       "      <td>0</td>\n",
       "      <td>0</td>\n",
       "      <td>0</td>\n",
       "      <td>0</td>\n",
       "      <td>0</td>\n",
       "      <td>1</td>\n",
       "      <td>0</td>\n",
       "      <td>1</td>\n",
       "      <td>0</td>\n",
       "      <td>0</td>\n",
       "    </tr>\n",
       "    <tr>\n",
       "      <th>3</th>\n",
       "      <td>6.0000</td>\n",
       "      <td>False</td>\n",
       "      <td>False</td>\n",
       "      <td>True</td>\n",
       "      <td>True</td>\n",
       "      <td>True</td>\n",
       "      <td>False</td>\n",
       "      <td>0.7775</td>\n",
       "      <td>0.0035</td>\n",
       "      <td>0.0019</td>\n",
       "      <td>...</td>\n",
       "      <td>0</td>\n",
       "      <td>0</td>\n",
       "      <td>0</td>\n",
       "      <td>0</td>\n",
       "      <td>0</td>\n",
       "      <td>1</td>\n",
       "      <td>0</td>\n",
       "      <td>1</td>\n",
       "      <td>0</td>\n",
       "      <td>0</td>\n",
       "    </tr>\n",
       "    <tr>\n",
       "      <th>4</th>\n",
       "      <td>330.8054</td>\n",
       "      <td>False</td>\n",
       "      <td>False</td>\n",
       "      <td>True</td>\n",
       "      <td>True</td>\n",
       "      <td>True</td>\n",
       "      <td>False</td>\n",
       "      <td>0.9530</td>\n",
       "      <td>0.0062</td>\n",
       "      <td>0.0091</td>\n",
       "      <td>...</td>\n",
       "      <td>0</td>\n",
       "      <td>0</td>\n",
       "      <td>0</td>\n",
       "      <td>0</td>\n",
       "      <td>0</td>\n",
       "      <td>1</td>\n",
       "      <td>0</td>\n",
       "      <td>1</td>\n",
       "      <td>0</td>\n",
       "      <td>0</td>\n",
       "    </tr>\n",
       "  </tbody>\n",
       "</table>\n",
       "<p>5 rows × 127 columns</p>\n",
       "</div>"
      ],
      "text/plain": [
       "   L12M_TY_QTY  CHAIN_IND_FLG  FRANCHISE_FLG  BEER_FLG  WINE_FLG  LIQUOR_FLG  \\\n",
       "0     397.8332          False          False      True      True        True   \n",
       "1       0.0000          False          False      True     False       False   \n",
       "2      13.0000          False          False      True      True        True   \n",
       "3       6.0000          False          False      True      True        True   \n",
       "4     330.8054          False          False      True      True        True   \n",
       "\n",
       "   FINE_WINE_FLG  WHITE_POP_PCT  BLACK_POP_PCT  ASIAN_POP_PCT  \\\n",
       "0          False         0.7596         0.1108         0.0554   \n",
       "1          False         0.7084         0.1061         0.0810   \n",
       "2          False         0.9312         0.0072         0.0114   \n",
       "3          False         0.7775         0.0035         0.0019   \n",
       "4          False         0.9530         0.0062         0.0091   \n",
       "\n",
       "                   ...                   B_PATRON_ETHNICITY_DSC_MEXICAN  \\\n",
       "0                  ...                                                0   \n",
       "1                  ...                                                0   \n",
       "2                  ...                                                0   \n",
       "3                  ...                                                0   \n",
       "4                  ...                                                0   \n",
       "\n",
       "   B_PATRON_ETHNICITY_DSC_UNKNOWN  B_PATRON_OCCUPATION_DSC_BLUE COLLAR  \\\n",
       "0                               0                                    0   \n",
       "1                               0                                    0   \n",
       "2                               0                                    0   \n",
       "3                               0                                    0   \n",
       "4                               0                                    0   \n",
       "\n",
       "   B_PATRON_OCCUPATION_DSC_COLLEGE  B_PATRON_OCCUPATION_DSC_OTHER  \\\n",
       "0                                0                              0   \n",
       "1                                0                              0   \n",
       "2                                0                              0   \n",
       "3                                0                              0   \n",
       "4                                0                              0   \n",
       "\n",
       "   B_PATRON_OCCUPATION_DSC_UNKNOWN  B_PATRON_OCCUPATION_DSC_WHITE COLLAR  \\\n",
       "0                                1                                     0   \n",
       "1                                1                                     0   \n",
       "2                                1                                     0   \n",
       "3                                1                                     0   \n",
       "4                                1                                     0   \n",
       "\n",
       "   B_PATRON_AGE_DSC_GENERAL POPULATION  B_PATRON_AGE_DSC_UNKNOWN  \\\n",
       "0                                    1                         0   \n",
       "1                                    1                         0   \n",
       "2                                    1                         0   \n",
       "3                                    1                         0   \n",
       "4                                    1                         0   \n",
       "\n",
       "   B_PATRON_AGE_DSC_YOUNG ADULT (21-28)  \n",
       "0                                     0  \n",
       "1                                     0  \n",
       "2                                     0  \n",
       "3                                     0  \n",
       "4                                     0  \n",
       "\n",
       "[5 rows x 127 columns]"
      ]
     },
     "execution_count": 9,
     "metadata": {},
     "output_type": "execute_result"
    }
   ],
   "source": [
    "X.head()"
   ]
  },
  {
   "cell_type": "markdown",
   "metadata": {},
   "source": [
    "## Clustering"
   ]
  },
  {
   "cell_type": "markdown",
   "metadata": {},
   "source": [
    "### Choose number of Clusters"
   ]
  },
  {
   "cell_type": "code",
   "execution_count": 10,
   "metadata": {
    "collapsed": true
   },
   "outputs": [],
   "source": [
    "#Elbow Method\n",
    "K = range(1, 100)\n",
    "meandistortions = []\n",
    "for k in K:\n",
    "    kmeans = KMeans(n_clusters=k, n_jobs = -2)\n",
    "    kmeans.fit(X)\n",
    "    meandistortions.append(sum(np.min(cdist(X, kmeans.cluster_centers_, 'euclidean'), axis=1)) / X.shape[0])"
   ]
  },
  {
   "cell_type": "code",
   "execution_count": 11,
   "metadata": {},
   "outputs": [
    {
     "data": {
      "image/png": "[encoded data removed]",
      "text/plain": [
       "<matplotlib.figure.Figure at 0xbc59f60>"
      ]
     },
     "metadata": {},
     "output_type": "display_data"
    }
   ],
   "source": [
    "plt.plot(K, meandistortions, 'bx-')\n",
    "plt.xlabel('k')\n",
    "plt.ylabel('Average distortion')\n",
    "plt.title('Selecting k with the Elbow Method')\n",
    "plt.show()"
   ]
  },
  {
   "cell_type": "code",
   "execution_count": 12,
   "metadata": {
    "collapsed": true
   },
   "outputs": [],
   "source": [
    "#Tunned Elbow Method\n",
    "K = range(1, 20)\n",
    "meandistortions = []\n",
    "for k in K:\n",
    "    kmeans = KMeans(n_clusters=k, n_jobs = -2)\n",
    "    kmeans.fit(X)\n",
    "    meandistortions.append(sum(np.min(cdist(X, kmeans.cluster_centers_, 'euclidean'), axis=1)) / X.shape[0])"
   ]
  },
  {
   "cell_type": "code",
   "execution_count": 13,
   "metadata": {},
   "outputs": [
    {
     "data": {
      "image/png": "[encoded data removed]",
      "text/plain": [
       "<matplotlib.figure.Figure at 0xc619f28>"
      ]
     },
     "metadata": {},
     "output_type": "display_data"
    }
   ],
   "source": [
    "plt.plot(K, meandistortions, 'bx-')\n",
    "plt.xlabel('k')\n",
    "plt.ylabel('Average distortion')\n",
    "plt.title('Selecting k with the Elbow Method')\n",
    "plt.show()"
   ]
  },
  {
   "cell_type": "code",
   "execution_count": 16,
   "metadata": {
    "collapsed": true
   },
   "outputs": [],
   "source": [
    "#Silhouette_score\n",
    "#results = []\n",
    "#NumberClusters = range(2,15,1)\n",
    "#for k in NumberClusters:\n",
    "#    kmeans_model = cluster.KMeans(n_clusters=k, random_state=1, n_jobs = -2).fit(X)\n",
    "#    labels = kmeans_model.labels_\n",
    "#    score = metrics.silhouette_score(X, labels, metric='euclidean')\n",
    "#    results.append((k,score))\n",
    "\n",
    "#Clustering_Score = pd.DataFrame(data=results,columns=['NumberOfClusters','silhouette_score'])\n",
    "#Clustering_Score"
   ]
  },
  {
   "cell_type": "code",
   "execution_count": 17,
   "metadata": {
    "collapsed": true
   },
   "outputs": [],
   "source": [
    "#Cluster the Data\n",
    "kmeans_model = cluster.KMeans(n_clusters=10, random_state=1, n_jobs = -2).fit(X)\n",
    "labels = kmeans_model.labels_"
   ]
  },
  {
   "cell_type": "code",
   "execution_count": 18,
   "metadata": {
    "collapsed": true
   },
   "outputs": [],
   "source": [
    "#Assign Cluster to Data\n",
    "Stores['CLUSTER'] = labels"
   ]
  },
  {
   "cell_type": "markdown",
   "metadata": {
    "collapsed": true
   },
   "source": [
    "## Regression Analysis"
   ]
  },
  {
   "cell_type": "code",
   "execution_count": 20,
   "metadata": {},
   "outputs": [],
   "source": [
    "#Load classification data\n",
    "StoresClass = pd.read_csv('NonLowPointStoresMinnesota.csv', dtype = str)"
   ]
  },
  {
   "cell_type": "code",
   "execution_count": 21,
   "metadata": {},
   "outputs": [
    {
     "data": {
      "text/html": [
       "<div>\n",
       "<style>\n",
       "    .dataframe thead tr:only-child th {\n",
       "        text-align: right;\n",
       "    }\n",
       "\n",
       "    .dataframe thead th {\n",
       "        text-align: left;\n",
       "    }\n",
       "\n",
       "    .dataframe tbody tr th {\n",
       "        vertical-align: top;\n",
       "    }\n",
       "</style>\n",
       "<table border=\"1\" class=\"dataframe\">\n",
       "  <thead>\n",
       "    <tr style=\"text-align: right;\">\n",
       "      <th></th>\n",
       "      <th>RTL_STORE_CD</th>\n",
       "      <th>BEERTYPE</th>\n",
       "    </tr>\n",
       "  </thead>\n",
       "  <tbody>\n",
       "    <tr>\n",
       "      <th>0</th>\n",
       "      <td>101857377</td>\n",
       "      <td>NonLowPoint</td>\n",
       "    </tr>\n",
       "    <tr>\n",
       "      <th>1</th>\n",
       "      <td>107046430</td>\n",
       "      <td>NonLowPoint</td>\n",
       "    </tr>\n",
       "    <tr>\n",
       "      <th>2</th>\n",
       "      <td>101971024</td>\n",
       "      <td>NonLowPoint</td>\n",
       "    </tr>\n",
       "    <tr>\n",
       "      <th>3</th>\n",
       "      <td>102194556</td>\n",
       "      <td>NonLowPoint</td>\n",
       "    </tr>\n",
       "    <tr>\n",
       "      <th>4</th>\n",
       "      <td>205647194</td>\n",
       "      <td>NonLowPoint</td>\n",
       "    </tr>\n",
       "  </tbody>\n",
       "</table>\n",
       "</div>"
      ],
      "text/plain": [
       "  RTL_STORE_CD     BEERTYPE\n",
       "0    101857377  NonLowPoint\n",
       "1    107046430  NonLowPoint\n",
       "2    101971024  NonLowPoint\n",
       "3    102194556  NonLowPoint\n",
       "4    205647194  NonLowPoint"
      ]
     },
     "execution_count": 21,
     "metadata": {},
     "output_type": "execute_result"
    }
   ],
   "source": [
    "StoresClass.head()"
   ]
  },
  {
   "cell_type": "code",
   "execution_count": 22,
   "metadata": {
    "collapsed": true
   },
   "outputs": [],
   "source": [
    "#Merge Class with Store Data for regression\n",
    "RegressionData = pd.merge(Stores, StoresClass, left_on='STORE_CD', right_on=\"RTL_STORE_CD\", how=\"left\")\n",
    "RegressionData.loc[RegressionData['BEERTYPE'].isnull(),\"BEERTYPE\"] = \"LowPoint\""
   ]
  },
  {
   "cell_type": "code",
   "execution_count": 23,
   "metadata": {},
   "outputs": [
    {
     "data": {
      "text/html": [
       "<div>\n",
       "<style>\n",
       "    .dataframe thead tr:only-child th {\n",
       "        text-align: right;\n",
       "    }\n",
       "\n",
       "    .dataframe thead th {\n",
       "        text-align: left;\n",
       "    }\n",
       "\n",
       "    .dataframe tbody tr th {\n",
       "        vertical-align: top;\n",
       "    }\n",
       "</style>\n",
       "<table border=\"1\" class=\"dataframe\">\n",
       "  <thead>\n",
       "    <tr style=\"text-align: right;\">\n",
       "      <th></th>\n",
       "      <th>STORE_CD</th>\n",
       "      <th>L12M_TY_QTY</th>\n",
       "      <th>PREMISE_TYPE_DSC</th>\n",
       "      <th>CHANNEL_DSC</th>\n",
       "      <th>SUBCHANNEL_DSC</th>\n",
       "      <th>NO_OF_STORES_DSC</th>\n",
       "      <th>FOOD_TYPE_GROUP_DSC</th>\n",
       "      <th>INDUSTRY_VOL_DSC</th>\n",
       "      <th>PATRON_ETHNICITY_DSC</th>\n",
       "      <th>PATRON_OCCUPATION_DSC</th>\n",
       "      <th>...</th>\n",
       "      <th>FEMALE_POP_2124_PCT</th>\n",
       "      <th>FEMALE_POP_2534_PCT</th>\n",
       "      <th>FEMALE_POP_3544_PCT</th>\n",
       "      <th>FEMALE_POP_4554_PCT</th>\n",
       "      <th>FEMALE_POP_5564_PCT</th>\n",
       "      <th>FEMALE_POP_6574_PCT</th>\n",
       "      <th>FEMALE_POP_75_PCT</th>\n",
       "      <th>CLUSTER</th>\n",
       "      <th>RTL_STORE_CD</th>\n",
       "      <th>BEERTYPE</th>\n",
       "    </tr>\n",
       "  </thead>\n",
       "  <tbody>\n",
       "    <tr>\n",
       "      <th>0</th>\n",
       "      <td>103793493</td>\n",
       "      <td>397.8332</td>\n",
       "      <td>ON PREMISE</td>\n",
       "      <td>DINING</td>\n",
       "      <td>CASUAL DINING</td>\n",
       "      <td>1 STORE</td>\n",
       "      <td>MEXICAN</td>\n",
       "      <td>MID 30% ON/ MID 60% OFF</td>\n",
       "      <td>GENERAL POPULATION</td>\n",
       "      <td>UNKNOWN</td>\n",
       "      <td>...</td>\n",
       "      <td>0.0201</td>\n",
       "      <td>0.1052</td>\n",
       "      <td>0.0728</td>\n",
       "      <td>0.0595</td>\n",
       "      <td>0.0599</td>\n",
       "      <td>0.0413</td>\n",
       "      <td>0.0334</td>\n",
       "      <td>5</td>\n",
       "      <td>103793493</td>\n",
       "      <td>NonLowPoint</td>\n",
       "    </tr>\n",
       "    <tr>\n",
       "      <th>1</th>\n",
       "      <td>103779046</td>\n",
       "      <td>0.0000</td>\n",
       "      <td>OFF PREMISE</td>\n",
       "      <td>CONVENIENCE STORE</td>\n",
       "      <td>CONVENTIONAL CONVENIENCE</td>\n",
       "      <td>1 STORE</td>\n",
       "      <td>OTHER</td>\n",
       "      <td>LOWEST 20% ON/ LOWEST 20% OFF</td>\n",
       "      <td>GENERAL POPULATION</td>\n",
       "      <td>UNKNOWN</td>\n",
       "      <td>...</td>\n",
       "      <td>0.0589</td>\n",
       "      <td>0.1088</td>\n",
       "      <td>0.0667</td>\n",
       "      <td>0.0420</td>\n",
       "      <td>0.0450</td>\n",
       "      <td>0.0310</td>\n",
       "      <td>0.0185</td>\n",
       "      <td>0</td>\n",
       "      <td>NaN</td>\n",
       "      <td>LowPoint</td>\n",
       "    </tr>\n",
       "    <tr>\n",
       "      <th>2</th>\n",
       "      <td>105646503</td>\n",
       "      <td>13.0000</td>\n",
       "      <td>ON PREMISE</td>\n",
       "      <td>BAR/NIGHTCLUB</td>\n",
       "      <td>CASUAL NIGHTCLUB</td>\n",
       "      <td>1 STORE</td>\n",
       "      <td>OTHER</td>\n",
       "      <td>TOP 50% ON/ TOP 20% OFF</td>\n",
       "      <td>GENERAL POPULATION</td>\n",
       "      <td>UNKNOWN</td>\n",
       "      <td>...</td>\n",
       "      <td>0.0230</td>\n",
       "      <td>0.0546</td>\n",
       "      <td>0.0669</td>\n",
       "      <td>0.0703</td>\n",
       "      <td>0.0619</td>\n",
       "      <td>0.0402</td>\n",
       "      <td>0.0338</td>\n",
       "      <td>0</td>\n",
       "      <td>105646503</td>\n",
       "      <td>NonLowPoint</td>\n",
       "    </tr>\n",
       "    <tr>\n",
       "      <th>3</th>\n",
       "      <td>105645328</td>\n",
       "      <td>6.0000</td>\n",
       "      <td>ON PREMISE</td>\n",
       "      <td>DINING</td>\n",
       "      <td>CASUAL DINING</td>\n",
       "      <td>1 STORE</td>\n",
       "      <td>VARIED MENU</td>\n",
       "      <td>LOWEST 20% ON/ LOWEST 20% OFF</td>\n",
       "      <td>GENERAL POPULATION</td>\n",
       "      <td>UNKNOWN</td>\n",
       "      <td>...</td>\n",
       "      <td>0.0184</td>\n",
       "      <td>0.0411</td>\n",
       "      <td>0.0345</td>\n",
       "      <td>0.0530</td>\n",
       "      <td>0.0845</td>\n",
       "      <td>0.1039</td>\n",
       "      <td>0.0463</td>\n",
       "      <td>0</td>\n",
       "      <td>105645328</td>\n",
       "      <td>NonLowPoint</td>\n",
       "    </tr>\n",
       "    <tr>\n",
       "      <th>4</th>\n",
       "      <td>202252793</td>\n",
       "      <td>330.8054</td>\n",
       "      <td>ON PREMISE</td>\n",
       "      <td>DINING</td>\n",
       "      <td>CASUAL DINING</td>\n",
       "      <td>1 STORE</td>\n",
       "      <td>MEXICAN</td>\n",
       "      <td>LOWEST 20% ON/ LOWEST 20% OFF</td>\n",
       "      <td>GENERAL POPULATION</td>\n",
       "      <td>UNKNOWN</td>\n",
       "      <td>...</td>\n",
       "      <td>0.0239</td>\n",
       "      <td>0.0597</td>\n",
       "      <td>0.0594</td>\n",
       "      <td>0.0636</td>\n",
       "      <td>0.0676</td>\n",
       "      <td>0.0530</td>\n",
       "      <td>0.0532</td>\n",
       "      <td>5</td>\n",
       "      <td>202252793</td>\n",
       "      <td>NonLowPoint</td>\n",
       "    </tr>\n",
       "  </tbody>\n",
       "</table>\n",
       "<p>5 rows × 50 columns</p>\n",
       "</div>"
      ],
      "text/plain": [
       "    STORE_CD  L12M_TY_QTY PREMISE_TYPE_DSC        CHANNEL_DSC  \\\n",
       "0  103793493     397.8332       ON PREMISE             DINING   \n",
       "1  103779046       0.0000      OFF PREMISE  CONVENIENCE STORE   \n",
       "2  105646503      13.0000       ON PREMISE      BAR/NIGHTCLUB   \n",
       "3  105645328       6.0000       ON PREMISE             DINING   \n",
       "4  202252793     330.8054       ON PREMISE             DINING   \n",
       "\n",
       "             SUBCHANNEL_DSC NO_OF_STORES_DSC FOOD_TYPE_GROUP_DSC  \\\n",
       "0             CASUAL DINING          1 STORE             MEXICAN   \n",
       "1  CONVENTIONAL CONVENIENCE          1 STORE               OTHER   \n",
       "2          CASUAL NIGHTCLUB          1 STORE               OTHER   \n",
       "3             CASUAL DINING          1 STORE         VARIED MENU   \n",
       "4             CASUAL DINING          1 STORE             MEXICAN   \n",
       "\n",
       "                INDUSTRY_VOL_DSC PATRON_ETHNICITY_DSC PATRON_OCCUPATION_DSC  \\\n",
       "0        MID 30% ON/ MID 60% OFF   GENERAL POPULATION               UNKNOWN   \n",
       "1  LOWEST 20% ON/ LOWEST 20% OFF   GENERAL POPULATION               UNKNOWN   \n",
       "2        TOP 50% ON/ TOP 20% OFF   GENERAL POPULATION               UNKNOWN   \n",
       "3  LOWEST 20% ON/ LOWEST 20% OFF   GENERAL POPULATION               UNKNOWN   \n",
       "4  LOWEST 20% ON/ LOWEST 20% OFF   GENERAL POPULATION               UNKNOWN   \n",
       "\n",
       "      ...      FEMALE_POP_2124_PCT  FEMALE_POP_2534_PCT  FEMALE_POP_3544_PCT  \\\n",
       "0     ...                   0.0201               0.1052               0.0728   \n",
       "1     ...                   0.0589               0.1088               0.0667   \n",
       "2     ...                   0.0230               0.0546               0.0669   \n",
       "3     ...                   0.0184               0.0411               0.0345   \n",
       "4     ...                   0.0239               0.0597               0.0594   \n",
       "\n",
       "   FEMALE_POP_4554_PCT  FEMALE_POP_5564_PCT  FEMALE_POP_6574_PCT  \\\n",
       "0               0.0595               0.0599               0.0413   \n",
       "1               0.0420               0.0450               0.0310   \n",
       "2               0.0703               0.0619               0.0402   \n",
       "3               0.0530               0.0845               0.1039   \n",
       "4               0.0636               0.0676               0.0530   \n",
       "\n",
       "   FEMALE_POP_75_PCT  CLUSTER  RTL_STORE_CD     BEERTYPE  \n",
       "0             0.0334        5     103793493  NonLowPoint  \n",
       "1             0.0185        0           NaN     LowPoint  \n",
       "2             0.0338        0     105646503  NonLowPoint  \n",
       "3             0.0463        0     105645328  NonLowPoint  \n",
       "4             0.0532        5     202252793  NonLowPoint  \n",
       "\n",
       "[5 rows x 50 columns]"
      ]
     },
     "execution_count": 23,
     "metadata": {},
     "output_type": "execute_result"
    }
   ],
   "source": [
    "RegressionData.head()"
   ]
  },
  {
   "cell_type": "code",
   "execution_count": 24,
   "metadata": {},
   "outputs": [
    {
     "data": {
      "text/plain": [
       "5869"
      ]
     },
     "execution_count": 24,
     "metadata": {},
     "output_type": "execute_result"
    }
   ],
   "source": [
    "len(RegressionData)"
   ]
  },
  {
   "cell_type": "markdown",
   "metadata": {},
   "source": [
    "### Regression controlling for Cluster"
   ]
  },
  {
   "cell_type": "code",
   "execution_count": 25,
   "metadata": {
    "collapsed": true
   },
   "outputs": [],
   "source": [
    "mod = smf.ols(formula='L12M_TY_QTY ~ C(BEERTYPE) + C(PREMISE_TYPE_DSC) + C(CLUSTER)', data=RegressionData)"
   ]
  },
  {
   "cell_type": "code",
   "execution_count": 26,
   "metadata": {},
   "outputs": [
    {
     "name": "stdout",
     "output_type": "stream",
     "text": [
      "                            OLS Regression Results                            \n",
      "==============================================================================\n",
      "Dep. Variable:            L12M_TY_QTY   R-squared:                       0.984\n",
      "Model:                            OLS   Adj. R-squared:                  0.984\n",
      "Method:                 Least Squares   F-statistic:                 3.194e+04\n",
      "Date:                Tue, 27 Jun 2017   Prob (F-statistic):               0.00\n",
      "Time:                        14:29:00   Log-Likelihood:                -37489.\n",
      "No. Observations:                5869   AIC:                         7.500e+04\n",
      "Df Residuals:                    5857   BIC:                         7.508e+04\n",
      "Df Model:                          11                                         \n",
      "Covariance Type:            nonrobust                                         \n",
      "=====================================================================================================\n",
      "                                        coef    std err          t      P>|t|      [0.025      0.975]\n",
      "-----------------------------------------------------------------------------------------------------\n",
      "Intercept                            43.0196      4.267     10.083      0.000      34.656      51.384\n",
      "C(BEERTYPE)[T.NonLowPoint]           34.9738      4.623      7.566      0.000      25.912      44.036\n",
      "C(PREMISE_TYPE_DSC)[T.ON PREMISE]   -39.6905      4.726     -8.398      0.000     -48.955     -30.426\n",
      "C(CLUSTER)[T.1]                    1.203e+04     51.129    235.371      0.000    1.19e+04    1.21e+04\n",
      "C(CLUSTER)[T.2]                    3597.2922     21.083    170.628      0.000    3555.962    3638.622\n",
      "C(CLUSTER)[T.3]                    3.266e+04    144.058    226.727      0.000    3.24e+04    3.29e+04\n",
      "C(CLUSTER)[T.4]                    2.167e+04    101.921    212.661      0.000    2.15e+04    2.19e+04\n",
      "C(CLUSTER)[T.5]                     339.1430      6.692     50.675      0.000     326.023     352.263\n",
      "C(CLUSTER)[T.6]                    1952.0110     13.120    148.785      0.000    1926.292    1977.730\n",
      "C(CLUSTER)[T.7]                    6434.8928     29.166    220.632      0.000    6377.717    6492.068\n",
      "C(CLUSTER)[T.8]                     943.3347      9.625     98.007      0.000     924.466     962.204\n",
      "C(CLUSTER)[T.9]                    4.266e+04    144.058    296.165      0.000    4.24e+04    4.29e+04\n",
      "==============================================================================\n",
      "Omnibus:                     5633.392   Durbin-Watson:                   2.047\n",
      "Prob(Omnibus):                  0.000   Jarque-Bera (JB):          3707549.515\n",
      "Skew:                           3.709   Prob(JB):                         0.00\n",
      "Kurtosis:                     125.907   Cond. No.                         111.\n",
      "==============================================================================\n",
      "\n",
      "Warnings:\n",
      "[1] Standard Errors assume that the covariance matrix of the errors is correctly specified.\n"
     ]
    }
   ],
   "source": [
    "print(mod.fit().summary())"
   ]
  },
  {
   "cell_type": "code",
   "execution_count": null,
   "metadata": {
    "collapsed": true
   },
   "outputs": [],
   "source": []
  },
  {
   "cell_type": "code",
   "execution_count": null,
   "metadata": {
    "collapsed": true
   },
   "outputs": [],
   "source": []
  },
  {
   "cell_type": "code",
   "execution_count": null,
   "metadata": {
    "collapsed": true
   },
   "outputs": [],
   "source": []
  },
  {
   "cell_type": "code",
   "execution_count": null,
   "metadata": {
    "collapsed": true
   },
   "outputs": [],
   "source": []
  }
 ],
 "metadata": {
  "kernelspec": {
   "display_name": "Python 3",
   "language": "python",
   "name": "python3"
  },
  "language_info": {
   "codemirror_mode": {
    "name": "ipython",
    "version": 3
   },
   "file_extension": ".py",
   "mimetype": "text/x-python",
   "name": "python",
   "nbconvert_exporter": "python",
   "pygments_lexer": "ipython3",
   "version": "3.6.1"
  }
 },
 "nbformat": 4,
 "nbformat_minor": 2
}
